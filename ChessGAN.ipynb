{
  "nbformat": 4,
  "nbformat_minor": 0,
  "metadata": {
    "colab": {
      "provenance": [],
      "authorship_tag": "ABX9TyNhANLdXxzql+mIo0/GMQdx",
      "include_colab_link": true
    },
    "kernelspec": {
      "name": "python3",
      "display_name": "Python 3"
    },
    "language_info": {
      "name": "python"
    }
  },
  "cells": [
    {
      "cell_type": "markdown",
      "metadata": {
        "id": "view-in-github",
        "colab_type": "text"
      },
      "source": [
        "<a href=\"https://colab.research.google.com/github/laveshnk-crypto/chess-GAN-generator/blob/dev/ChessGAN.ipynb\" target=\"_parent\"><img src=\"https://colab.research.google.com/assets/colab-badge.svg\" alt=\"Open In Colab\"/></a>"
      ]
    },
    {
      "cell_type": "code",
      "execution_count": null,
      "metadata": {
        "id": "iqV_b-0FWugC"
      },
      "outputs": [],
      "source": [
        "from google.colab import drive\n",
        "drive.mount('/content/drive')"
      ]
    },
    {
      "cell_type": "code",
      "source": [
        "!pip install python-chess"
      ],
      "metadata": {
        "id": "W0JZrEVc3vmr"
      },
      "execution_count": null,
      "outputs": []
    },
    {
      "cell_type": "code",
      "source": [
        "import pandas as pd\n",
        "\n",
        "path = '/content/drive/MyDrive/GANProject/lichess_dataset.csv'\n",
        "df = pd.read_csv(path)\n"
      ],
      "metadata": {
        "id": "r9cTY4lS31wg"
      },
      "execution_count": null,
      "outputs": []
    },
    {
      "cell_type": "code",
      "source": [
        "fen_list = df['FEN'].tolist()"
      ],
      "metadata": {
        "id": "7wsCe9d74dvl"
      },
      "execution_count": null,
      "outputs": []
    },
    {
      "cell_type": "code",
      "source": [
        "def board_to_matrix(board):\n",
        "    piece_map = {\n",
        "        'P': 1, 'N': 2, 'B': 3, 'R': 4, 'Q': 5, 'K': 6,\n",
        "        'p': 7, 'n': 8, 'b': 9, 'r': 10, 'q': 11, 'k': 12,\n",
        "        '.': 0\n",
        "    }\n",
        "\n",
        "    fen = board.fen().split()[0]\n",
        "    rows = fen.split('/')\n",
        "\n",
        "    matrix = []\n",
        "    for row in rows:\n",
        "        row_list = []\n",
        "        for char in row:\n",
        "            if char.isdigit():\n",
        "                for i in range(int(char)):\n",
        "                    row_list.append(piece_map['.'])\n",
        "            else:\n",
        "                row_list.append(piece_map[char])\n",
        "        matrix.append(row_list)\n",
        "\n",
        "    return matrix"
      ],
      "metadata": {
        "id": "1HiQIfsx78UP"
      },
      "execution_count": null,
      "outputs": []
    },
    {
      "cell_type": "code",
      "source": [
        "import chess\n",
        "\n",
        "board_list = []\n",
        "\n",
        "for fen in fen_list:\n",
        "  board = chess.Board(fen)\n",
        "\n",
        "  # Convert board to matrix and append to board_list\n",
        "  matrix = board_to_matrix(board)\n",
        "  board_list.append(matrix)"
      ],
      "metadata": {
        "id": "zG30PLCtMOG3"
      },
      "execution_count": null,
      "outputs": []
    },
    {
      "cell_type": "code",
      "source": [
        "import numpy as np\n",
        "\n",
        "# Convert board_list to numpy array\n",
        "board_array = np.array(board_list)\n",
        "\n",
        "# Normalize pixel values to be between -1 and 1\n",
        "board_array = (board_array - 6) / 6"
      ],
      "metadata": {
        "id": "yzgknU2XMxmj"
      },
      "execution_count": null,
      "outputs": []
    },
    {
      "cell_type": "code",
      "source": [],
      "metadata": {
        "id": "gp-tf3BEOTgL"
      },
      "execution_count": null,
      "outputs": []
    }
  ]
}