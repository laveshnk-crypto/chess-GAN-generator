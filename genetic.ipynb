{
  "nbformat": 4,
  "nbformat_minor": 0,
  "metadata": {
    "colab": {
      "provenance": [],
      "authorship_tag": "ABX9TyNnexCk5a1/W8BVYZYeR8hh",
      "include_colab_link": true
    },
    "kernelspec": {
      "name": "python3",
      "display_name": "Python 3"
    },
    "language_info": {
      "name": "python"
    }
  },
  "cells": [
    {
      "cell_type": "markdown",
      "metadata": {
        "id": "view-in-github",
        "colab_type": "text"
      },
      "source": [
        "<a href=\"https://colab.research.google.com/github/laveshnk-crypto/chess-genetic/blob/main/genetic.ipynb\" target=\"_parent\"><img src=\"https://colab.research.google.com/assets/colab-badge.svg\" alt=\"Open In Colab\"/></a>"
      ]
    },
    {
      "cell_type": "code",
      "source": [
        "!pip install scipy\n",
        "!pip install python-chess\n",
        "!pip install --upgrade scipy"
      ],
      "metadata": {
        "id": "deyupUAHA1uh"
      },
      "execution_count": null,
      "outputs": []
    },
    {
      "cell_type": "code",
      "source": [
        "!wget https://stockfishchess.org/files/stockfish_14_linux_x64_popcnt.zip && \\\n",
        "    unzip stockfish_14_linux_x64_popcnt.zip stockfish_14_linux_x64_popcnt/stockfish_14_x64_popcnt"
      ],
      "metadata": {
        "id": "mC8UYEirLNOQ"
      },
      "execution_count": null,
      "outputs": []
    },
    {
      "cell_type": "code",
      "source": [
        "!pip install geneticalgorithm"
      ],
      "metadata": {
        "id": "Ud2VNiNVM-yK"
      },
      "execution_count": null,
      "outputs": []
    },
    {
      "cell_type": "code",
      "execution_count": 12,
      "metadata": {
        "id": "39MToB-aAx5N"
      },
      "outputs": [],
      "source": [
        "import chess\n",
        "from chess import engine\n",
        "# a chess position where white can win in one move\n",
        "board = chess.Board(\"5Q2/5K1k/8/8/8/8/8/8 w - - 0 1\")\n",
        "\n",
        "# initialize Stockfish \n",
        "engine = engine.SimpleEngine.popen_uci(\"/content/stockfish_14_linux_x64_popcnt/stockfish_14_x64_popcnt\")\n",
        "\n",
        "# you can control the engine's search by time or depth\n",
        "info = engine.analyse(board, chess.engine.Limit(time=0.1))"
      ]
    },
    {
      "cell_type": "code",
      "source": [
        "import chess\n",
        "from geneticalgorithm import geneticalgorithm as ga\n",
        "\n",
        "def value_to_piece(value):\n",
        "    if value == 0:\n",
        "        return None\n",
        "    elif value <= 6:\n",
        "        # Pieces have values 1 through 6\n",
        "        return chess.Piece(value, chess.WHITE)\n",
        "    else:\n",
        "        return chess.Piece(value - 6, chess.BLACK)\n",
        "\n",
        "def array_to_chess_board(arr):\n",
        "    # construct an empty chess board\n",
        "    board = chess.Board(fen='8/8/8/8/8/8/8/8 w - - 0 1')\n",
        "    for i, value in enumerate(arr):\n",
        "        piece = value_to_piece(value)\n",
        "        if piece:\n",
        "            board.set_piece_at(i, piece)\n",
        "    return board"
      ],
      "metadata": {
        "id": "bPVZhsmEOHaa"
      },
      "execution_count": 13,
      "outputs": []
    },
    {
      "cell_type": "code",
      "source": [
        "def f(X):\n",
        "    board = array_to_chess_board(X)\n",
        "\n",
        "    # Let's reward having as few pieces as possible\n",
        "    penalty = len(board.piece_map()) * 0.1\n",
        "\n",
        "    # Penalize invalid boards heavily, we cannot even analyze them\n",
        "    if not board.is_valid():\n",
        "        return 10 + penalty\n",
        "\n",
        "    # You can tune the depth for performance reasons\n",
        "    info = engine.analyse(board, chess.engine.Limit(depth=10), multipv=2)\n",
        "\n",
        "    # If there are no moves (meaning the game is over), return a high penalty\n",
        "    if len(info) < 1:\n",
        "        return 9 + penalty\n",
        "\n",
        "    # Also heavily penalize having only 1 move, puzzles are only interesting\n",
        "    #   if we have a choice to make\n",
        "    if len(info) < 2:\n",
        "        return 8 + penalty\n",
        "\n",
        "    # We're specifically looking for puzzles where White can mate in 3 moves\n",
        "    #   so we'll penalize cases where white does not have a forced mate\n",
        "    score = info[0][\"score\"].white()\n",
        "    if not score.is_mate() or score.mate() <= 0:\n",
        "        return 6 + penalty\n",
        "\n",
        "    # Add a penalty for the distance away from mate in 3 \n",
        "    penalty += min(3, abs(score.mate() - 3)) / 3\n",
        "\n",
        "    # Finally, add a high penalty if the second best move is also good.\n",
        "    # The defining characteristic of a puzzle is that the second best move is bad\n",
        "    second_move_score = info[1][\"score\"].white().score(mate_score=1000)\n",
        "    if second_move_score > 100:\n",
        "        penalty += min(10.0, second_move_score / 100)\n",
        "\n",
        "\n",
        "    return penalty"
      ],
      "metadata": {
        "id": "sndNvLNKL-P2"
      },
      "execution_count": 14,
      "outputs": []
    },
    {
      "cell_type": "code",
      "source": [
        "import numpy as np\n",
        "\n",
        "varbound = np.array([[0, 12]] * 64)\n",
        "algorithm_param = {'max_num_iteration': 1000,\n",
        "                   'population_size': 20,\n",
        "                   'mutation_probability': 0.05,\n",
        "                   'elit_ratio': 0.01,\n",
        "                   'crossover_probability': 0.9,\n",
        "                   'parents_portion': 0.3,\n",
        "                   'crossover_type': 'two_point', \n",
        "                   'max_iteration_without_improv': 5000}\n",
        "model = ga(function=f, dimension=64, variable_type='int', variable_boundaries=varbound, algorithm_parameters=algorithm_param)\n",
        "model.run()"
      ],
      "metadata": {
        "colab": {
          "base_uri": "https://localhost:8080/",
          "height": 618
        },
        "id": "GHgMRS5mM17o",
        "outputId": "4a3e87be-4bd3-4dac-ba4f-ea9b48ea5f8d"
      },
      "execution_count": 20,
      "outputs": [
        {
          "output_type": "stream",
          "name": "stdout",
          "text": [
            " The best solution found:\n",
            " [ 0.  0.  5.  0.  0.  0.  0.  0.  0.  0.  2.  0.  4.  0.  0.  0.  0. 12.\n",
            "  0.  0.  0.  0.  0.  0.  8.  0.  0. 11.  0.  0.  0.  0.  3.  0.  1.  0.\n",
            " 11.  0.  0.  0.  8.  6.  0.  0.  0.  0.  0.  0.  0.  0.  0.  0.  0.  2.\n",
            "  0.  8.  0.  0.  0.  0.  3.  0.  5.  0.]\n",
            "\n",
            " Objective function:\n",
            " 1.5\n"
          ]
        },
        {
          "output_type": "display_data",
          "data": {
            "text/plain": [
              "<Figure size 640x480 with 1 Axes>"
            ],
            "image/png": "[encoded data removed]"
          },
          "metadata": {}
        }
      ]
    },
    {
      "cell_type": "code",
      "source": [
        "best_board = array_to_chess_board(list(model.best_variable))\n",
        "print(best_board.fen())\n",
        "# 8/8/2K5/8/8/8/8/5k2 w - - 0 1"
      ],
      "metadata": {
        "colab": {
          "base_uri": "https://localhost:8080/"
        },
        "id": "QhmeXphpOXsw",
        "outputId": "1ca97c71-05cb-432a-e02b-d7de8aaba2ae"
      },
      "execution_count": 19,
      "outputs": [
        {
          "output_type": "stream",
          "name": "stdout",
          "text": [
            "5q2/8/1q6/8/2R3R1/4B1Q1/3pK1Pb/7k w - - 0 1\n"
          ]
        }
      ]
    },
    {
      "cell_type": "code",
      "source": [],
      "metadata": {
        "id": "nL49l2VTINRP"
      },
      "execution_count": null,
      "outputs": []
    }
  ]
}